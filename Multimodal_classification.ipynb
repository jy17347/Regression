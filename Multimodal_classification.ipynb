{
  "nbformat": 4,
  "nbformat_minor": 0,
  "metadata": {
    "colab": {
      "name": "Multimodal_classification.ipynb",
      "provenance": [],
      "collapsed_sections": []
    },
    "kernelspec": {
      "name": "python3",
      "display_name": "Python 3"
    },
    "language_info": {
      "name": "python"
    }
  },
  "cells": [
    {
      "cell_type": "code",
      "execution_count": 20,
      "metadata": {
        "colab": {
          "base_uri": "https://localhost:8080/"
        },
        "id": "oWG-AaN1Tyvz",
        "outputId": "b92a4186-f76d-451d-b76e-9c82b3f286d3"
      },
      "outputs": [
        {
          "output_type": "stream",
          "name": "stdout",
          "text": [
            "X: [[0.144 0.049 0.012 0.013 0.086]\n",
            " [0.125 0.039 0.013 0.002 0.062]\n",
            " [0.141 0.045 0.021 0.013 0.074]\n",
            " [0.189 0.043 0.001 0.03  0.032]\n",
            " [0.161 0.044 0.011 0.07  0.076]\n",
            " [0.186 0.047 0.018 0.05  0.007]\n",
            " [0.106 0.036 0.008 0.012 0.095]\n",
            " [0.117 0.03  0.006 0.003 0.145]\n",
            " [0.174 0.05  0.008 0.061 0.112]\n",
            " [0.094 0.041 0.005 0.014 0.124]\n",
            " [0.147 0.047 0.012 0.009 0.111]\n",
            " [0.141 0.058 0.01  0.011 0.07 ]\n",
            " [0.135 0.041 0.009 0.005 0.065]\n",
            " [0.1   0.037 0.003 0.004 0.138]\n",
            " [0.189 0.058 0.014 0.011 0.032]\n",
            " [0.149 0.05  0.012 0.05  0.06 ]\n",
            " [0.119 0.04  0.008 0.049 0.233]\n",
            " [0.158 0.038 0.013 0.003 0.068]\n",
            " [0.259 0.06  0.016 0.085 0.158]\n",
            " [0.193 0.066 0.021 0.037 0.083]\n",
            " [0.155 0.051 0.02  0.012 0.04 ]\n",
            " [0.197 0.052 0.008 0.054 0.095]\n",
            " [0.133 0.037 0.003 0.043 0.135]\n",
            " [0.196 0.063 0.026 0.01  0.031]\n",
            " [0.206 0.054 0.027 0.01  0.048]\n",
            " [0.11  0.025 0.006 0.    0.061]\n",
            " [0.096 0.044 0.003 0.022 0.151]\n",
            " [0.193 0.063 0.02  0.037 0.081]\n",
            " [0.154 0.045 0.008 0.    0.252]\n",
            " [0.204 0.053 0.017 0.013 0.07 ]\n",
            " [0.141 0.041 0.007 0.051 0.264]\n",
            " [0.209 0.057 0.03  0.017 0.058]\n",
            " [0.1   0.029 0.007 0.011 0.188]\n",
            " [0.158 0.034 0.019 0.005 0.014]\n",
            " [0.087 0.038 0.006 0.015 0.142]\n",
            " [0.163 0.068 0.016 0.022 0.092]\n",
            " [0.207 0.042 0.009 0.066 0.211]\n",
            " [0.197 0.052 0.008 0.054 0.095]\n",
            " [0.16  0.049 0.007 0.038 0.101]\n",
            " [0.064 0.044 0.007 0.002 0.205]\n",
            " [0.1   0.037 0.003 0.004 0.138]\n",
            " [0.082 0.061 0.002 0.012 0.147]\n",
            " [0.131 0.049 0.012 0.021 0.13 ]\n",
            " [0.17  0.026 0.011 0.002 0.   ]\n",
            " [0.15  0.053 0.005 0.039 0.115]]\n",
            "Y [1. 1. 1. 2. 1. 1. 0. 0. 2. 1. 1. 2. 2. 0. 2. 2. 1. 2. 2. 2. 2. 2. 0. 2.\n",
            " 2. 0. 0. 2. 0. 2. 0. 2. 0. 1. 0. 2. 1. 2. 1. 0. 0. 0. 1. 1. 1.]\n"
          ]
        }
      ],
      "source": [
        "import pandas as pd\n",
        "import numpy as np\n",
        "import matplotlib.pyplot as plt\n",
        "\n",
        "data = pd.read_excel('baseball.xlsx',dtype='float32')\n",
        "data = data.values\n",
        "\n",
        "X = data[:, :5]\n",
        "Y = data[:, 5]\n",
        "\n",
        "print(\"X:\", X)\n",
        "print(\"Y\", Y)"
      ]
    },
    {
      "cell_type": "code",
      "source": [
        "import tensorflow.compat.v1 as tf\n",
        "tf.disable_v2_behavior()\n",
        "Y_hot = tf.squeeze(tf.one_hot(Y,3))\n",
        "print(Y_hot)"
      ],
      "metadata": {
        "colab": {
          "base_uri": "https://localhost:8080/"
        },
        "id": "uZ2TW22SU8-q",
        "outputId": "5adbebfd-365d-40e2-abf0-026f9ac635df"
      },
      "execution_count": 21,
      "outputs": [
        {
          "output_type": "stream",
          "name": "stdout",
          "text": [
            "Tensor(\"Squeeze_4:0\", shape=(45, 3), dtype=float32)\n"
          ]
        }
      ]
    },
    {
      "cell_type": "code",
      "source": [
        "W = tf.Variable(tf.random_normal([5, 3]))\n",
        "b= tf.Variable(tf.random_normal([3]))\n",
        "\n",
        "hypothesis = tf.nn.softmax(tf.matmul(X,W) + b)\n",
        "cost = tf.reduce_mean( -tf.reduce_sum(Y_hot*tf.log(hypothesis),axis=1))\n",
        "\n",
        "optimizer = tf.train.GradientDescentOptimizer(learning_rate=3)\n",
        "\n",
        "train = optimizer.minimize(cost)\n",
        "\n",
        "sess = tf.Session()\n",
        "sess.run(tf.global_variables_initializer())"
      ],
      "metadata": {
        "id": "jwlMGhlgWPDi"
      },
      "execution_count": 22,
      "outputs": []
    },
    {
      "cell_type": "code",
      "source": [
        "cost_list = []\n",
        "for step in range(300000):\n",
        "  train_val, cost_val, W_val, b_val = sess.run([train, cost, W, b])\n",
        "  if step%10000 == 0:\n",
        "    print(\"\\nStep:%5d\\tcost:%.6f\"%(step, cost_val))\n",
        "  if step != 0:\n",
        "    if prev_cost - cost_val < 0.0000003:\n",
        "      break\n",
        "  prev_cost = cost_val\n",
        "  cost_list.append(cost_val)\n",
        "  \n",
        "\n",
        "predict = sess.run(tf.argmax(hypothesis, -1))\n",
        "accuracy = np.mean(np.equal(Y,predict))\n",
        "\n",
        "print(f\"정확도:{accuracy*100:.2f}\")\n",
        "plt.plot(cost_list, c='r', label='cost')\n",
        "plt.title(\"Learning Curve\")\n",
        "plt.legend(loc='upper right')"
      ],
      "metadata": {
        "colab": {
          "base_uri": "https://localhost:8080/",
          "height": 646
        },
        "id": "jXdlc9IwU0Ui",
        "outputId": "d8955e56-9dc4-4fc6-a127-8209f42eb903"
      },
      "execution_count": 23,
      "outputs": [
        {
          "output_type": "stream",
          "name": "stdout",
          "text": [
            "\n",
            "Step:    0\tcost:1.146490\n",
            "\n",
            "Step:10000\tcost:0.497983\n",
            "\n",
            "Step:20000\tcost:0.465473\n",
            "\n",
            "Step:30000\tcost:0.446485\n",
            "\n",
            "Step:40000\tcost:0.432803\n",
            "\n",
            "Step:50000\tcost:0.422196\n",
            "\n",
            "Step:60000\tcost:0.413693\n",
            "\n",
            "Step:70000\tcost:0.406742\n",
            "\n",
            "Step:80000\tcost:0.400979\n",
            "정확도:82.22\n"
          ]
        },
        {
          "output_type": "execute_result",
          "data": {
            "text/plain": [
              "<matplotlib.legend.Legend at 0x7feb0a293090>"
            ]
          },
          "metadata": {},
          "execution_count": 23
        },
        {
          "output_type": "display_data",
          "data": {
            "text/plain": [
              "<Figure size 432x288 with 1 Axes>"
            ],
            "image/png": "[encoded data removed]"
          },
          "metadata": {
            "needs_background": "light"
          }
        }
      ]
    }
  ]
}