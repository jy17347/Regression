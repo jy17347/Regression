{
  "nbformat": 4,
  "nbformat_minor": 0,
  "metadata": {
    "colab": {
      "name": "Second_order_polynomial_regression.ipynb",
      "provenance": [],
      "collapsed_sections": []
    },
    "kernelspec": {
      "name": "python3",
      "display_name": "Python 3"
    },
    "language_info": {
      "name": "python"
    }
  },
  "cells": [
    {
      "cell_type": "code",
      "execution_count": 30,
      "metadata": {
        "colab": {
          "base_uri": "https://localhost:8080/"
        },
        "id": "G9RFus3FP1LX",
        "outputId": "28d16815-7b78-4d6d-a1c7-da2ef83370bd"
      },
      "outputs": [
        {
          "output_type": "stream",
          "name": "stdout",
          "text": [
            "[[-4.88313000e+00  6.70716830e+01]\n",
            " [-4.83904000e+00  5.56217300e+01]\n",
            " [-4.68256000e+00  7.58736570e+01]\n",
            " [-4.65282000e+00  5.89596390e+01]\n",
            " [-4.61813000e+00  6.21637690e+01]\n",
            " [-4.59644000e+00  5.46544640e+01]\n",
            " [-4.57476000e+00  6.45114180e+01]\n",
            " [-4.34192000e+00  4.33665170e+01]\n",
            " [-4.26045000e+00  5.25011000e+01]\n",
            " [-4.21216000e+00  3.83683560e+01]\n",
            " [-4.07149000e+00  3.41637820e+01]\n",
            " [-3.90257000e+00  3.70674130e+01]\n",
            " [-3.88739000e+00  2.54569620e+01]\n",
            " [-3.74740000e+00  3.43761620e+01]\n",
            " [-3.64654000e+00  5.20971820e+01]\n",
            " [-3.54483000e+00  3.42038220e+01]\n",
            " [-3.43211000e+00  3.36612030e+01]\n",
            " [-3.35163000e+00  2.60297800e+01]\n",
            " [-3.11538000e+00  3.54206290e+01]\n",
            " [-2.98241000e+00  2.63366250e+01]\n",
            " [-2.95294000e+00  2.31239820e+01]\n",
            " [-2.93960000e+00  1.82744970e+01]\n",
            " [-2.88261000e+00  9.87112300e+00]\n",
            " [-2.67234000e+00  2.78604920e+01]\n",
            " [-2.66293000e+00  2.52801130e+01]\n",
            " [-2.59411000e+00  2.81178940e+01]\n",
            " [-2.09109000e+00  1.92597930e+01]\n",
            " [-2.00866000e+00  2.96409320e+01]\n",
            " [-1.88204000e+00  2.51696610e+01]\n",
            " [-1.26343000e+00  2.68904050e+01]\n",
            " [-1.06515000e+00  4.72568000e+00]\n",
            " [-1.00808000e+00  2.32513410e+01]\n",
            " [-9.96092000e-01  8.91581100e+00]\n",
            " [-9.09132000e-01  2.26213250e+01]\n",
            " [-8.92643000e-01  2.14084930e+01]\n",
            " [-7.57375000e-01  1.96115540e+01]\n",
            " [-6.51066000e-01  2.99270500e+00]\n",
            " [-6.33380000e-01  2.29948410e+01]\n",
            " [-5.47559000e-01  1.97989200e+01]\n",
            " [-4.90987000e-01  3.43810300e+00]\n",
            " [-2.86812000e-01  5.56386600e+00]\n",
            " [-1.35687000e-01  1.95345210e+01]\n",
            " [-1.10673000e-01  1.65218930e+01]\n",
            " [-2.58290000e-02  1.28670990e+01]\n",
            " [ 7.58510000e-02  1.36877870e+01]\n",
            " [ 9.52370000e-02  1.60388430e+01]\n",
            " [ 1.40028000e-01  3.55204040e+01]\n",
            " [ 1.46876000e-01  3.51490910e+01]\n",
            " [ 2.50590000e-01  1.15972920e+01]\n",
            " [ 3.01480000e-01  1.91523700e+01]\n",
            " [ 3.88787000e-01  2.18187240e+01]\n",
            " [ 5.15222000e-01  3.25765480e+01]\n",
            " [ 6.30462000e-01  2.86280620e+01]\n",
            " [ 6.50283000e-01  2.54404840e+01]\n",
            " [ 7.97051000e-01  1.82720100e+01]\n",
            " [ 9.38474000e-01  3.49180200e+01]\n",
            " [ 9.40523000e-01  3.80880250e+01]\n",
            " [ 9.87027000e-01  2.57124940e+01]\n",
            " [ 9.95039000e-01  3.36919390e+01]\n",
            " [ 1.19474000e+00  4.61198670e+01]\n",
            " [ 1.79043000e+00  4.97510290e+01]\n",
            " [ 1.95272000e+00  4.50436060e+01]\n",
            " [ 1.96597000e+00  3.57492260e+01]\n",
            " [ 2.07023000e+00  3.94652590e+01]\n",
            " [ 2.19200000e+00  4.26081390e+01]\n",
            " [ 2.19717000e+00  5.54862820e+01]\n",
            " [ 2.37761000e+00  6.22496790e+01]\n",
            " [ 2.39745000e+00  4.57672340e+01]\n",
            " [ 2.48359000e+00  5.93746710e+01]\n",
            " [ 2.56214000e+00  5.93245850e+01]\n",
            " [ 2.60056000e+00  5.81066850e+01]\n",
            " [ 2.69505000e+00  5.06241520e+01]\n",
            " [ 2.85742000e+00  6.57517600e+01]\n",
            " [ 2.97110000e+00  4.76975270e+01]\n",
            " [ 3.16253000e+00  7.53491150e+01]\n",
            " [ 3.27832000e+00  5.27827340e+01]\n",
            " [ 3.29069000e+00  6.91105470e+01]\n",
            " [ 3.41861000e+00  7.62208980e+01]\n",
            " [ 3.42249000e+00  7.48011040e+01]\n",
            " [ 3.46924000e+00  6.13327650e+01]\n",
            " [ 3.53145000e+00  6.22859050e+01]\n",
            " [ 3.67860000e+00  6.73566160e+01]\n",
            " [ 3.71457000e+00  7.69959080e+01]\n",
            " [ 3.73514000e+00  7.75311380e+01]\n",
            " [ 3.82479000e+00  8.11475680e+01]\n",
            " [ 3.83463000e+00  8.16644470e+01]\n",
            " [ 3.96604000e+00  9.04568250e+01]\n",
            " [ 4.02050000e+00  7.73395150e+01]\n",
            " [ 4.04953000e+00  7.45789000e+01]\n",
            " [ 4.10944000e+00  9.29015650e+01]\n",
            " [ 4.19199000e+00  8.97804830e+01]\n",
            " [ 4.20366000e+00  9.82035870e+01]\n",
            " [ 4.27748000e+00  1.06227316e+02]\n",
            " [ 4.33870000e+00  1.08804452e+02]\n",
            " [ 4.42276000e+00  1.03383940e+02]\n",
            " [ 4.45022000e+00  1.23633866e+02]\n",
            " [ 4.63117000e+00  1.08057057e+02]\n",
            " [ 4.82787000e+00  1.14654173e+02]\n",
            " [ 4.84838000e+00  1.11590180e+02]\n",
            " [ 4.97593000e+00  1.10439960e+02]] \n",
            " data의 shape:  (100, 2)\n"
          ]
        }
      ],
      "source": [
        "import numpy as np\n",
        "import tensorflow.compat.v1 as tf\n",
        "tf.disable_v2_behavior()\n",
        "\n",
        "data = np.loadtxt(\"9.txt\", delimiter=\",\")\n",
        "print(data, \"\\n data의 shape: \",data.shape)"
      ]
    },
    {
      "cell_type": "markdown",
      "source": [
        "# 새 섹션"
      ],
      "metadata": {
        "id": "_rfFN2qfwhnm"
      }
    },
    {
      "cell_type": "code",
      "source": [
        "X = data[:,0]\n",
        "Y = data[:,1]\n",
        "\n",
        "print(\"X:\",X)\n",
        "print(\"Y:\",Y)"
      ],
      "metadata": {
        "colab": {
          "base_uri": "https://localhost:8080/"
        },
        "id": "-XO7YKTwRKnr",
        "outputId": "9f2a5e66-e0fe-484c-f1d6-a69d254996af"
      },
      "execution_count": 31,
      "outputs": [
        {
          "output_type": "stream",
          "name": "stdout",
          "text": [
            "X: [-4.88313  -4.83904  -4.68256  -4.65282  -4.61813  -4.59644  -4.57476\n",
            " -4.34192  -4.26045  -4.21216  -4.07149  -3.90257  -3.88739  -3.7474\n",
            " -3.64654  -3.54483  -3.43211  -3.35163  -3.11538  -2.98241  -2.95294\n",
            " -2.9396   -2.88261  -2.67234  -2.66293  -2.59411  -2.09109  -2.00866\n",
            " -1.88204  -1.26343  -1.06515  -1.00808  -0.996092 -0.909132 -0.892643\n",
            " -0.757375 -0.651066 -0.63338  -0.547559 -0.490987 -0.286812 -0.135687\n",
            " -0.110673 -0.025829  0.075851  0.095237  0.140028  0.146876  0.25059\n",
            "  0.30148   0.388787  0.515222  0.630462  0.650283  0.797051  0.938474\n",
            "  0.940523  0.987027  0.995039  1.19474   1.79043   1.95272   1.96597\n",
            "  2.07023   2.192     2.19717   2.37761   2.39745   2.48359   2.56214\n",
            "  2.60056   2.69505   2.85742   2.9711    3.16253   3.27832   3.29069\n",
            "  3.41861   3.42249   3.46924   3.53145   3.6786    3.71457   3.73514\n",
            "  3.82479   3.83463   3.96604   4.0205    4.04953   4.10944   4.19199\n",
            "  4.20366   4.27748   4.3387    4.42276   4.45022   4.63117   4.82787\n",
            "  4.84838   4.97593 ]\n",
            "Y: [ 67.071683  55.62173   75.873657  58.959639  62.163769  54.654464\n",
            "  64.511418  43.366517  52.5011    38.368356  34.163782  37.067413\n",
            "  25.456962  34.376162  52.097182  34.203822  33.661203  26.02978\n",
            "  35.420629  26.336625  23.123982  18.274497   9.871123  27.860492\n",
            "  25.280113  28.117894  19.259793  29.640932  25.169661  26.890405\n",
            "   4.72568   23.251341   8.915811  22.621325  21.408493  19.611554\n",
            "   2.992705  22.994841  19.79892    3.438103   5.563866  19.534521\n",
            "  16.521893  12.867099  13.687787  16.038843  35.520404  35.149091\n",
            "  11.597292  19.15237   21.818724  32.576548  28.628062  25.440484\n",
            "  18.27201   34.91802   38.088025  25.712494  33.691939  46.119867\n",
            "  49.751029  45.043606  35.749226  39.465259  42.608139  55.486282\n",
            "  62.249679  45.767234  59.374671  59.324585  58.106685  50.624152\n",
            "  65.75176   47.697527  75.349115  52.782734  69.110547  76.220898\n",
            "  74.801104  61.332765  62.285905  67.356616  76.995908  77.531138\n",
            "  81.147568  81.664447  90.456825  77.339515  74.5789    92.901565\n",
            "  89.780483  98.203587 106.227316 108.804452 103.38394  123.633866\n",
            " 108.057057 114.654173 111.59018  110.43996 ]\n"
          ]
        }
      ]
    },
    {
      "cell_type": "code",
      "source": [
        "import matplotlib.pyplot as plt\n",
        "\n",
        "fig = plt.figure()\n",
        "plt.scatter(X, Y, c='g', label='Scatter')\n",
        "plt.legend(loc='upper right')"
      ],
      "metadata": {
        "colab": {
          "base_uri": "https://localhost:8080/",
          "height": 283
        },
        "id": "zHaThTH7Rbn1",
        "outputId": "9d7d43a5-ba49-436d-d91a-b4c4db0d0887"
      },
      "execution_count": 32,
      "outputs": [
        {
          "output_type": "execute_result",
          "data": {
            "text/plain": [
              "<matplotlib.legend.Legend at 0x7fa83ce51750>"
            ]
          },
          "metadata": {},
          "execution_count": 32
        },
        {
          "output_type": "display_data",
          "data": {
            "text/plain": [
              "<Figure size 432x288 with 1 Axes>"
            ],
            "image/png": "[encoded data removed]"
          },
          "metadata": {
            "needs_background": "light"
          }
        }
      ]
    },
    {
      "cell_type": "code",
      "source": [
        "fig = plt.figure()\n",
        "plt.plot(X, Y, c=\"r\", label='Line')\n",
        "plt.legend(loc='upper right')"
      ],
      "metadata": {
        "colab": {
          "base_uri": "https://localhost:8080/",
          "height": 283
        },
        "id": "HORVtVA9RsmP",
        "outputId": "b25fc392-fd00-4f5b-dbb5-fd707de01058"
      },
      "execution_count": 33,
      "outputs": [
        {
          "output_type": "execute_result",
          "data": {
            "text/plain": [
              "<matplotlib.legend.Legend at 0x7fa83cd9cd50>"
            ]
          },
          "metadata": {},
          "execution_count": 33
        },
        {
          "output_type": "display_data",
          "data": {
            "text/plain": [
              "<Figure size 432x288 with 1 Axes>"
            ],
            "image/png": "[encoded data removed]"
          },
          "metadata": {
            "needs_background": "light"
          }
        }
      ]
    },
    {
      "cell_type": "code",
      "source": [
        "fig = plt.figure()\n",
        "plt.scatter(X, Y, c='g', label='Scatter')\n",
        "plt.plot(X, Y, c='r', label='Line')\n",
        "plt.legend(loc='upper right')"
      ],
      "metadata": {
        "colab": {
          "base_uri": "https://localhost:8080/",
          "height": 283
        },
        "id": "6JFLbegDR4-w",
        "outputId": "746d0448-c775-46d1-9a7e-160fe4b0f8f3"
      },
      "execution_count": 34,
      "outputs": [
        {
          "output_type": "execute_result",
          "data": {
            "text/plain": [
              "<matplotlib.legend.Legend at 0x7fa83cd17350>"
            ]
          },
          "metadata": {},
          "execution_count": 34
        },
        {
          "output_type": "display_data",
          "data": {
            "text/plain": [
              "<Figure size 432x288 with 1 Axes>"
            ],
            "image/png": "[encoded data removed]"
          },
          "metadata": {
            "needs_background": "light"
          }
        }
      ]
    },
    {
      "cell_type": "code",
      "source": [
        "A = tf.Variable(tf.random_normal([1],seed = 2022))\n",
        "B = tf.Variable(tf.random_normal([1],seed = 2022))\n",
        "C = tf.Variable(tf.random_normal([1],seed = 2022))\n",
        "\n",
        "hypothesis = (A*X*X + B*X + C)"
      ],
      "metadata": {
        "id": "ycLGl458SVNe"
      },
      "execution_count": 35,
      "outputs": []
    },
    {
      "cell_type": "code",
      "source": [
        "cost = tf.reduce_mean(tf.square(hypothesis - Y ))\n",
        "optimizer = tf.train.GradientDescentOptimizer(learning_rate = 1E-3)\n",
        "\n",
        "train = optimizer.minimize(cost)"
      ],
      "metadata": {
        "id": "74w9q0BwxiC_"
      },
      "execution_count": 36,
      "outputs": []
    },
    {
      "cell_type": "code",
      "source": [
        "sess = tf.Session()\n",
        "    \n",
        "sess.run(tf.global_variables_initializer())\n",
        "prev_cost = 10000\n",
        "for step in range(100001):\n",
        "  train_val, cost_val, A_val, B_val, C_val = sess.run([train, cost, A, B, C])\n",
        "  if prev_cost-cost_val <= 0.0000001:\n",
        "    break\n",
        "\n",
        "  if step%1000 == 0:\n",
        "    print(\"Step:%d, cost:%f, A:%f, B:%f, C:%f\"%(step, cost_val, A_val, B_val, C_val))\n",
        "    prev_cost = cost_val   "
      ],
      "metadata": {
        "colab": {
          "base_uri": "https://localhost:8080/"
        },
        "id": "CAWO-DA0r2uG",
        "outputId": "49352897-517c-4ae7-8d2b-1cbba43b8025"
      },
      "execution_count": 37,
      "outputs": [
        {
          "output_type": "stream",
          "name": "stdout",
          "text": [
            "Step:0, cost:4026.636475, A:0.817731, B:-0.427345, C:-0.469412\n",
            "Step:1000, cost:103.667572, A:3.418241, B:5.705585, C:11.088738\n",
            "Step:2000, cost:77.924675, A:3.103889, B:5.649016, C:16.011341\n",
            "Step:3000, cost:73.016945, A:2.966634, B:5.624317, C:18.160683\n",
            "Step:4000, cost:72.081306, A:2.906705, B:5.613531, C:19.099148\n",
            "Step:5000, cost:71.902924, A:2.880537, B:5.608825, C:19.508924\n",
            "Step:6000, cost:71.868912, A:2.869111, B:5.606771, C:19.687841\n",
            "Step:7000, cost:71.862419, A:2.864123, B:5.605875, C:19.765953\n"
          ]
        }
      ]
    },
    {
      "cell_type": "code",
      "source": [
        "fig = plt.figure()\n",
        "plt.scatter(X, Y, c='g', label='Scatter')\n",
        "Y=A_val*X*X+B_val*X+C_val\n",
        "plt.plot(X, Y, c='r', label='Line')\n",
        "plt.legend(loc='upper right')"
      ],
      "metadata": {
        "colab": {
          "base_uri": "https://localhost:8080/",
          "height": 283
        },
        "id": "Wx4bdM-yyp8R",
        "outputId": "677e3787-175e-4dd7-938a-55acea994593"
      },
      "execution_count": 38,
      "outputs": [
        {
          "output_type": "execute_result",
          "data": {
            "text/plain": [
              "<matplotlib.legend.Legend at 0x7fa83cc32a90>"
            ]
          },
          "metadata": {},
          "execution_count": 38
        },
        {
          "output_type": "display_data",
          "data": {
            "text/plain": [
              "<Figure size 432x288 with 1 Axes>"
            ],
            "image/png": "[encoded data removed]"
          },
          "metadata": {
            "needs_background": "light"
          }
        }
      ]
    }
  ]
}